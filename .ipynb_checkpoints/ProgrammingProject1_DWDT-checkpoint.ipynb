{
 "cells": [
  {
   "cell_type": "markdown",
   "metadata": {},
   "source": [
    "# Programming Project 1\n",
    "---\n",
    "**Author:** Dylan Tulett \n",
    "**Version:** 1.0  \n",
    "**Semester:** Fall 2020  \n",
    "\n",
    "This *notebook* contains my solution to **Programming Project 1**\n",
    "\n",
    "- Problem 1: Write a program that projects population growth over a period of time, with inputs given for initial population, growth rate, and years projected. \n",
    "\n",
    "\n",
    "### Population growth equation:     $$ P^{t} = P^{0} * e^{rt} $$"
   ]
  },
  {
   "cell_type": "code",
   "execution_count": 14,
   "metadata": {},
   "outputs": [
    {
     "name": "stdout",
     "output_type": "stream",
     "text": [
      "Enter initial population: 89000000\n",
      "Enter the growth rate: 0.001\n",
      "Enter the number of years to project: 20\n",
      "\n",
      "=============================================================\n",
      "Population Growth\n",
      "=============================================================\n",
      "\n",
      "We started with 89,000,000 people.\n",
      "+----------+--------------+-----------------------------------------+\n",
      "| Years    | Population   | Approximate Increase from Previous Year |\n",
      "+----------+--------------+-----------------------------------------+\n",
      "|        1 | 90797919.26  | 1797919.26                              |\n",
      "|        2 | 92632158.9   | 1834239.64                              |\n",
      "|        3 | 94503452.64  | 1871293.74                              |\n",
      "|        4 | 96412549.02  | 1909096.38                              |\n",
      "|        5 | 98360211.71  | 1947662.69                              |\n",
      "|        6 | 100347219.79 | 1987008.08                              |\n",
      "|        7 | 102374368.1  | 2027148.31                              |\n",
      "|        8 | 104442467.52 | 2068099.42                              |\n",
      "|        9 | 106552345.32 | 2109877.8                               |\n",
      "|       10 | 108704845.48 | 2152500.16                              |\n",
      "|       11 | 110900829.02 | 2195983.55                              |\n",
      "|       12 | 113141174.38 | 2240345.36                              |\n",
      "|       13 | 115426777.71 | 2285603.33                              |\n",
      "|       14 | 117758553.3  | 2331775.58                              |\n",
      "|       15 | 120137433.87 | 2378880.58                              |\n",
      "|       16 | 122564371.03 | 2426937.15                              |\n",
      "|       17 | 125040335.56 | 2475964.53                              |\n",
      "|       18 | 127566317.9  | 2525982.34                              |\n",
      "|       19 | 130143328.46 | 2577010.56                              |\n",
      "|       20 | 132772398.09 | 2629069.63                              |\n",
      "+----------+--------------+-----------------------------------------+\n"
     ]
    }
   ],
   "source": [
    "import math\n",
    "from prettytable import PrettyTable\n",
    "table = PrettyTable()\n",
    "\n",
    "\n",
    "#set variables with input\n",
    "initial_pop = int(input(\"Enter initial population: \"))\n",
    "growth_rate = float(input(\"Enter the growth rate: \"))\n",
    "years_of_growth = int(input(\"Enter the number of years to project: \"))\n",
    "\n",
    "print()\n",
    "print(\"=============================================================\")\n",
    "print(\"Population Growth\")\n",
    "print(\"=============================================================\")\n",
    "print()\n",
    "\n",
    "\n",
    "#Header\n",
    "print(f\"We started with {initial_pop:,d} people.\")\n",
    "\n",
    "\n",
    "\n",
    "#making table headings\n",
    "table.field_names = (['Years   ','Population','Approximate Increase from Previous Year'])\n",
    "table.align['Years   '] = 'r'\n",
    "table.align['Population'] = 'l'\n",
    "table.align['Approximate Increase from Previous Year'] = 'l'\n",
    "\n",
    "\n",
    "#population double circumstance\n",
    "#def pop_double(initial_pop, new_pop):\n",
    "#    if new_pop >= initial_pop*2:\n",
    "#        return(\"* population doubled\")\n",
    "    \n",
    "\n",
    "\n",
    "holder_pop = initial_pop\n",
    "for i in range(1, years_of_growth+1):\n",
    "    #calculate values\n",
    "    new_pop = holder_pop * math.e ** (growth_rate * years_of_growth)\n",
    "    pop_increase = new_pop - holder_pop\n",
    "    holder_pop = new_pop\n",
    "    \n",
    "    #add new row for each year\n",
    "    table.add_row([i, round(new_pop,2), round(pop_increase,2)])\n",
    "\n",
    "\n",
    "print(table)"
   ]
  },
  {
   "cell_type": "code",
   "execution_count": null,
   "metadata": {},
   "outputs": [],
   "source": []
  },
  {
   "cell_type": "code",
   "execution_count": null,
   "metadata": {},
   "outputs": [],
   "source": []
  }
 ],
 "metadata": {
  "kernelspec": {
   "display_name": "Python 3",
   "language": "python",
   "name": "python3"
  },
  "language_info": {
   "codemirror_mode": {
    "name": "ipython",
    "version": 3
   },
   "file_extension": ".py",
   "mimetype": "text/x-python",
   "name": "python",
   "nbconvert_exporter": "python",
   "pygments_lexer": "ipython3",
   "version": "3.8.3"
  }
 },
 "nbformat": 4,
 "nbformat_minor": 4
}
