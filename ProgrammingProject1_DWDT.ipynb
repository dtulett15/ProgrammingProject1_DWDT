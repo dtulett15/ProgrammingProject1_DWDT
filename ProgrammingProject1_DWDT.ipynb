{
 "cells": [
  {
   "cell_type": "markdown",
   "metadata": {},
   "source": [
    "# Programming Project 1\n",
    "---\n",
    "**Author:** Dylan Tulett \n",
    "**Version:** 1.0  \n",
    "**Semester:** Fall 2020  \n",
    "\n",
    "This *notebook* contains my solution to **Programming Project 1**\n",
    "\n",
    "- Problem 1: Write a program that projects population growth over a period of time, with inputs given for initial population, growth rate, and years projected. \n",
    "\n",
    "\n",
    "### Population growth equation:     $$ P^{t} = P^{0} * e^{rt} $$"
   ]
  },
  {
   "cell_type": "code",
   "execution_count": null,
   "metadata": {},
   "outputs": [],
   "source": [
    "import math\n",
    "from prettytable import PrettyTable\n",
    "table = PrettyTable()\n",
    "\n",
    "\n",
    "#user set variables from input\n",
    "initial_pop = int(input(\"Enter initial population: \"))\n",
    "growth_rate = float(input(\"Enter the growth rate: \"))\n",
    "years_of_growth = int(input(\"Enter the number of years to project: \"))\n",
    "\n",
    "\n",
    "#header\n",
    "print()\n",
    "print(\"=============================================================\")\n",
    "print(\"Population Growth\")\n",
    "print(\"=============================================================\")\n",
    "print()\n",
    "print(f\"We started with {initial_pop:,d} people.\")\n",
    "\n",
    "\n",
    "#making table headings\n",
    "table.field_names = (['Years   ','Population   ','Approximate Increase from Previous Year'])\n",
    "table.align['Years   '] = 'r'\n",
    "table.align['Population   '] = 'l'\n",
    "table.align['Approximate Increase from Previous Year'] = 'l'\n",
    "\n",
    "\n",
    "#begin loop for amount of years user inputs\n",
    "holder_pop = initial_pop\n",
    "for i in range(1, years_of_growth+1):\n",
    "    #calculate values\n",
    "    new_pop = holder_pop * math.e ** (growth_rate * years_of_growth)\n",
    "    pop_increase = new_pop - holder_pop\n",
    "    holder_pop = new_pop\n",
    "    \n",
    "    #population double circumstance\n",
    "    def pop_double(initial_pop, new_pop):\n",
    "        if new_pop >= initial_pop*2:\n",
    "            return(\"* population doubled\")\n",
    "        else:\n",
    "            return(\"\")\n",
    "    \n",
    "    \n",
    "    #add new row for each year\n",
    "    table.add_row([i, f'{new_pop:.2f}', f'{pop_increase:.2f} {pop_double(initial_pop,new_pop)}']) \n",
    "    \n",
    "    #setting initial pop to new pop in case of pop_double so if pop doubles, it won't print until it doubles again\n",
    "    if new_pop >= initial_pop*2:\n",
    "        initial_pop = new_pop\n",
    "\n",
    "\n",
    "\n",
    "print(table)"
   ]
  },
  {
   "cell_type": "code",
   "execution_count": null,
   "metadata": {},
   "outputs": [],
   "source": []
  },
  {
   "cell_type": "code",
   "execution_count": null,
   "metadata": {},
   "outputs": [],
   "source": []
  }
 ],
 "metadata": {
  "kernelspec": {
   "display_name": "Python 3",
   "language": "python",
   "name": "python3"
  },
  "language_info": {
   "codemirror_mode": {
    "name": "ipython",
    "version": 3
   },
   "file_extension": ".py",
   "mimetype": "text/x-python",
   "name": "python",
   "nbconvert_exporter": "python",
   "pygments_lexer": "ipython3",
   "version": "3.8.3"
  }
 },
 "nbformat": 4,
 "nbformat_minor": 4
}
